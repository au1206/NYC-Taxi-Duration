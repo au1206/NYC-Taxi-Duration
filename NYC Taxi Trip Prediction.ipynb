{
 "cells": [
  {
   "cell_type": "code",
   "execution_count": 1,
   "metadata": {
    "_cell_guid": "36f28325-38cd-45e1-aa7c-a932668611eb",
    "_uuid": "444c0dd455845b9d8190059609680a343612ca1f"
   },
   "outputs": [],
   "source": [
    "# importing the required libraries \n",
    "\n",
    "import numpy as np # linear algebra\n",
    "import pandas as pd # data processing, CSV file I/O (e.g. pd.read_csv)\n",
    "import matplotlib.pyplot as plt\n",
    "%matplotlib inline\n",
    "from datetime import datetime # to tackle the date time features\n",
    "from datetime import date\n",
    "from sklearn.cluster import MiniBatchKMeans\n",
    "import seaborn as sns #pretty plots\n",
    "import warnings\n",
    "sns.set()\n",
    "\n"
   ]
  },
  {
   "cell_type": "code",
   "execution_count": 2,
   "metadata": {
    "_cell_guid": "843c9e0a-8509-4b75-9701-11e7f49c62bc",
    "_uuid": "226151f0ec91bc69c63dd11a95f00babf5ef6e9b"
   },
   "outputs": [
    {
     "data": {
      "text/html": [
       "<div>\n",
       "<table border=\"1\" class=\"dataframe\">\n",
       "  <thead>\n",
       "    <tr style=\"text-align: right;\">\n",
       "      <th></th>\n",
       "      <th>id</th>\n",
       "      <th>vendor_id</th>\n",
       "      <th>pickup_datetime</th>\n",
       "      <th>dropoff_datetime</th>\n",
       "      <th>passenger_count</th>\n",
       "      <th>pickup_longitude</th>\n",
       "      <th>pickup_latitude</th>\n",
       "      <th>dropoff_longitude</th>\n",
       "      <th>dropoff_latitude</th>\n",
       "      <th>store_and_fwd_flag</th>\n",
       "      <th>trip_duration</th>\n",
       "    </tr>\n",
       "  </thead>\n",
       "  <tbody>\n",
       "    <tr>\n",
       "      <th>0</th>\n",
       "      <td>id2875421</td>\n",
       "      <td>2</td>\n",
       "      <td>2016-03-14 17:24:55</td>\n",
       "      <td>2016-03-14 17:32:30</td>\n",
       "      <td>1</td>\n",
       "      <td>-73.982155</td>\n",
       "      <td>40.767937</td>\n",
       "      <td>-73.964630</td>\n",
       "      <td>40.765602</td>\n",
       "      <td>N</td>\n",
       "      <td>455</td>\n",
       "    </tr>\n",
       "    <tr>\n",
       "      <th>1</th>\n",
       "      <td>id2377394</td>\n",
       "      <td>1</td>\n",
       "      <td>2016-06-12 00:43:35</td>\n",
       "      <td>2016-06-12 00:54:38</td>\n",
       "      <td>1</td>\n",
       "      <td>-73.980415</td>\n",
       "      <td>40.738564</td>\n",
       "      <td>-73.999481</td>\n",
       "      <td>40.731152</td>\n",
       "      <td>N</td>\n",
       "      <td>663</td>\n",
       "    </tr>\n",
       "    <tr>\n",
       "      <th>2</th>\n",
       "      <td>id3858529</td>\n",
       "      <td>2</td>\n",
       "      <td>2016-01-19 11:35:24</td>\n",
       "      <td>2016-01-19 12:10:48</td>\n",
       "      <td>1</td>\n",
       "      <td>-73.979027</td>\n",
       "      <td>40.763939</td>\n",
       "      <td>-74.005333</td>\n",
       "      <td>40.710087</td>\n",
       "      <td>N</td>\n",
       "      <td>2124</td>\n",
       "    </tr>\n",
       "    <tr>\n",
       "      <th>3</th>\n",
       "      <td>id3504673</td>\n",
       "      <td>2</td>\n",
       "      <td>2016-04-06 19:32:31</td>\n",
       "      <td>2016-04-06 19:39:40</td>\n",
       "      <td>1</td>\n",
       "      <td>-74.010040</td>\n",
       "      <td>40.719971</td>\n",
       "      <td>-74.012268</td>\n",
       "      <td>40.706718</td>\n",
       "      <td>N</td>\n",
       "      <td>429</td>\n",
       "    </tr>\n",
       "    <tr>\n",
       "      <th>4</th>\n",
       "      <td>id2181028</td>\n",
       "      <td>2</td>\n",
       "      <td>2016-03-26 13:30:55</td>\n",
       "      <td>2016-03-26 13:38:10</td>\n",
       "      <td>1</td>\n",
       "      <td>-73.973053</td>\n",
       "      <td>40.793209</td>\n",
       "      <td>-73.972923</td>\n",
       "      <td>40.782520</td>\n",
       "      <td>N</td>\n",
       "      <td>435</td>\n",
       "    </tr>\n",
       "  </tbody>\n",
       "</table>\n",
       "</div>"
      ],
      "text/plain": [
       "          id  vendor_id     pickup_datetime     dropoff_datetime  \\\n",
       "0  id2875421          2 2016-03-14 17:24:55  2016-03-14 17:32:30   \n",
       "1  id2377394          1 2016-06-12 00:43:35  2016-06-12 00:54:38   \n",
       "2  id3858529          2 2016-01-19 11:35:24  2016-01-19 12:10:48   \n",
       "3  id3504673          2 2016-04-06 19:32:31  2016-04-06 19:39:40   \n",
       "4  id2181028          2 2016-03-26 13:30:55  2016-03-26 13:38:10   \n",
       "\n",
       "   passenger_count  pickup_longitude  pickup_latitude  dropoff_longitude  \\\n",
       "0                1        -73.982155        40.767937         -73.964630   \n",
       "1                1        -73.980415        40.738564         -73.999481   \n",
       "2                1        -73.979027        40.763939         -74.005333   \n",
       "3                1        -74.010040        40.719971         -74.012268   \n",
       "4                1        -73.973053        40.793209         -73.972923   \n",
       "\n",
       "   dropoff_latitude store_and_fwd_flag  trip_duration  \n",
       "0         40.765602                  N            455  \n",
       "1         40.731152                  N            663  \n",
       "2         40.710087                  N           2124  \n",
       "3         40.706718                  N            429  \n",
       "4         40.782520                  N            435  "
      ]
     },
     "execution_count": 2,
     "metadata": {},
     "output_type": "execute_result"
    }
   ],
   "source": [
    "#reading the trainign and testing data and storing them as data and test respectively.\n",
    "data =  pd.read_csv('dataset/train.csv', parse_dates =['pickup_datetime'])\n",
    "dates=['pickup_datetime']\n",
    "test = pd.read_csv('dataset/test.csv',parse_dates = ['pickup_datetime'])\n",
    "data.head(5)"
   ]
  },
  {
   "cell_type": "code",
   "execution_count": 3,
   "metadata": {
    "_cell_guid": "f39f3043-41dd-4a4a-895a-13a3279f9e16",
    "_uuid": "e8a917deb78b7765f0c2bd063e27940ddcba14db"
   },
   "outputs": [
    {
     "name": "stdout",
     "output_type": "stream",
     "text": [
      "<class 'pandas.core.frame.DataFrame'>\n",
      "RangeIndex: 1458644 entries, 0 to 1458643\n",
      "Data columns (total 11 columns):\n",
      "id                    1458644 non-null object\n",
      "vendor_id             1458644 non-null int64\n",
      "pickup_datetime       1458644 non-null datetime64[ns]\n",
      "dropoff_datetime      1458644 non-null object\n",
      "passenger_count       1458644 non-null int64\n",
      "pickup_longitude      1458644 non-null float64\n",
      "pickup_latitude       1458644 non-null float64\n",
      "dropoff_longitude     1458644 non-null float64\n",
      "dropoff_latitude      1458644 non-null float64\n",
      "store_and_fwd_flag    1458644 non-null object\n",
      "trip_duration         1458644 non-null int64\n",
      "dtypes: datetime64[ns](1), float64(4), int64(3), object(3)\n",
      "memory usage: 122.4+ MB\n",
      "<class 'pandas.core.frame.DataFrame'>\n",
      "RangeIndex: 625134 entries, 0 to 625133\n",
      "Data columns (total 9 columns):\n",
      "id                    625134 non-null object\n",
      "vendor_id             625134 non-null int64\n",
      "pickup_datetime       625134 non-null datetime64[ns]\n",
      "passenger_count       625134 non-null int64\n",
      "pickup_longitude      625134 non-null float64\n",
      "pickup_latitude       625134 non-null float64\n",
      "dropoff_longitude     625134 non-null float64\n",
      "dropoff_latitude      625134 non-null float64\n",
      "store_and_fwd_flag    625134 non-null object\n",
      "dtypes: datetime64[ns](1), float64(4), int64(2), object(2)\n",
      "memory usage: 42.9+ MB\n"
     ]
    },
    {
     "data": {
      "text/html": [
       "<div>\n",
       "<table border=\"1\" class=\"dataframe\">\n",
       "  <thead>\n",
       "    <tr style=\"text-align: right;\">\n",
       "      <th></th>\n",
       "      <th>vendor_id</th>\n",
       "      <th>passenger_count</th>\n",
       "      <th>pickup_longitude</th>\n",
       "      <th>pickup_latitude</th>\n",
       "      <th>dropoff_longitude</th>\n",
       "      <th>dropoff_latitude</th>\n",
       "      <th>trip_duration</th>\n",
       "    </tr>\n",
       "  </thead>\n",
       "  <tbody>\n",
       "    <tr>\n",
       "      <th>count</th>\n",
       "      <td>1.458644e+06</td>\n",
       "      <td>1.458644e+06</td>\n",
       "      <td>1.458644e+06</td>\n",
       "      <td>1.458644e+06</td>\n",
       "      <td>1.458644e+06</td>\n",
       "      <td>1.458644e+06</td>\n",
       "      <td>1.458644e+06</td>\n",
       "    </tr>\n",
       "    <tr>\n",
       "      <th>mean</th>\n",
       "      <td>1.534950e+00</td>\n",
       "      <td>1.664530e+00</td>\n",
       "      <td>-7.397349e+01</td>\n",
       "      <td>4.075092e+01</td>\n",
       "      <td>-7.397342e+01</td>\n",
       "      <td>4.075180e+01</td>\n",
       "      <td>9.594923e+02</td>\n",
       "    </tr>\n",
       "    <tr>\n",
       "      <th>std</th>\n",
       "      <td>4.987772e-01</td>\n",
       "      <td>1.314242e+00</td>\n",
       "      <td>7.090186e-02</td>\n",
       "      <td>3.288119e-02</td>\n",
       "      <td>7.064327e-02</td>\n",
       "      <td>3.589056e-02</td>\n",
       "      <td>5.237432e+03</td>\n",
       "    </tr>\n",
       "    <tr>\n",
       "      <th>min</th>\n",
       "      <td>1.000000e+00</td>\n",
       "      <td>0.000000e+00</td>\n",
       "      <td>-1.219333e+02</td>\n",
       "      <td>3.435970e+01</td>\n",
       "      <td>-1.219333e+02</td>\n",
       "      <td>3.218114e+01</td>\n",
       "      <td>1.000000e+00</td>\n",
       "    </tr>\n",
       "    <tr>\n",
       "      <th>25%</th>\n",
       "      <td>1.000000e+00</td>\n",
       "      <td>1.000000e+00</td>\n",
       "      <td>-7.399187e+01</td>\n",
       "      <td>4.073735e+01</td>\n",
       "      <td>-7.399133e+01</td>\n",
       "      <td>4.073588e+01</td>\n",
       "      <td>3.970000e+02</td>\n",
       "    </tr>\n",
       "    <tr>\n",
       "      <th>50%</th>\n",
       "      <td>2.000000e+00</td>\n",
       "      <td>1.000000e+00</td>\n",
       "      <td>-7.398174e+01</td>\n",
       "      <td>4.075410e+01</td>\n",
       "      <td>-7.397975e+01</td>\n",
       "      <td>4.075452e+01</td>\n",
       "      <td>6.620000e+02</td>\n",
       "    </tr>\n",
       "    <tr>\n",
       "      <th>75%</th>\n",
       "      <td>2.000000e+00</td>\n",
       "      <td>2.000000e+00</td>\n",
       "      <td>-7.396733e+01</td>\n",
       "      <td>4.076836e+01</td>\n",
       "      <td>-7.396301e+01</td>\n",
       "      <td>4.076981e+01</td>\n",
       "      <td>1.075000e+03</td>\n",
       "    </tr>\n",
       "    <tr>\n",
       "      <th>max</th>\n",
       "      <td>2.000000e+00</td>\n",
       "      <td>9.000000e+00</td>\n",
       "      <td>-6.133553e+01</td>\n",
       "      <td>5.188108e+01</td>\n",
       "      <td>-6.133553e+01</td>\n",
       "      <td>4.392103e+01</td>\n",
       "      <td>3.526282e+06</td>\n",
       "    </tr>\n",
       "  </tbody>\n",
       "</table>\n",
       "</div>"
      ],
      "text/plain": [
       "          vendor_id  passenger_count  pickup_longitude  pickup_latitude  \\\n",
       "count  1.458644e+06     1.458644e+06      1.458644e+06     1.458644e+06   \n",
       "mean   1.534950e+00     1.664530e+00     -7.397349e+01     4.075092e+01   \n",
       "std    4.987772e-01     1.314242e+00      7.090186e-02     3.288119e-02   \n",
       "min    1.000000e+00     0.000000e+00     -1.219333e+02     3.435970e+01   \n",
       "25%    1.000000e+00     1.000000e+00     -7.399187e+01     4.073735e+01   \n",
       "50%    2.000000e+00     1.000000e+00     -7.398174e+01     4.075410e+01   \n",
       "75%    2.000000e+00     2.000000e+00     -7.396733e+01     4.076836e+01   \n",
       "max    2.000000e+00     9.000000e+00     -6.133553e+01     5.188108e+01   \n",
       "\n",
       "       dropoff_longitude  dropoff_latitude  trip_duration  \n",
       "count       1.458644e+06      1.458644e+06   1.458644e+06  \n",
       "mean       -7.397342e+01      4.075180e+01   9.594923e+02  \n",
       "std         7.064327e-02      3.589056e-02   5.237432e+03  \n",
       "min        -1.219333e+02      3.218114e+01   1.000000e+00  \n",
       "25%        -7.399133e+01      4.073588e+01   3.970000e+02  \n",
       "50%        -7.397975e+01      4.075452e+01   6.620000e+02  \n",
       "75%        -7.396301e+01      4.076981e+01   1.075000e+03  \n",
       "max        -6.133553e+01      4.392103e+01   3.526282e+06  "
      ]
     },
     "execution_count": 3,
     "metadata": {},
     "output_type": "execute_result"
    }
   ],
   "source": [
    "# checking the types of columns and entries in the data and test.\n",
    "data.info()\n",
    "test.info()\n",
    "#using the describe() function to get and idea about different features and their stats\n",
    "data.describe()"
   ]
  },
  {
   "cell_type": "code",
   "execution_count": 4,
   "metadata": {
    "_cell_guid": "1a3b3770-41d8-4d3a-a363-fce685bda588",
    "_uuid": "5b4e060f6d502f5ddc41c959e2149e239395e4ae",
    "collapsed": true
   },
   "outputs": [],
   "source": [
    "#getting individual components of date time\n",
    "#converting store_and_fwd_flag to a 0 and 1 from a categorical data as only 2 possible values.\n",
    "for df in (data,test):\n",
    "    df['year'] = df['pickup_datetime'].dt.year\n",
    "    df['month'] = df['pickup_datetime'].dt.month\n",
    "    df['day'] = df['pickup_datetime'].dt.day\n",
    "    df['hr'] = df['pickup_datetime'].dt.hour\n",
    "    df['minute'] = df['pickup_datetime'].dt.minute\n",
    "    #converting flag into 0 or 1\n",
    "    df['store_and_fwd_flag'] = 1 * (df.store_and_fwd_flag.values== 'Y')"
   ]
  },
  {
   "cell_type": "code",
   "execution_count": 5,
   "metadata": {
    "_cell_guid": "3d0f592e-e4d4-47b0-a65b-f39b497f897c",
    "_kg_hide-input": false,
    "_uuid": "ab6c9f1ff1d86487c8ce9c8b4115e28d5eb835d8"
   },
   "outputs": [
    {
     "name": "stdout",
     "output_type": "stream",
     "text": [
      "82\n",
      "0.53495026888\n",
      "0.00551539649154\n",
      "8045\n"
     ]
    }
   ],
   "source": [
    "\n",
    " \n",
    "print(data[data['pickup_longitude']<-74.2].shape[0]) #points with longitude out of range, possible outliers\n",
    "print((data['vendor_id']==2).mean())  #Distribution by vendor id\n",
    "print((data['store_and_fwd_flag']==1).mean()) #distribution by store_and_fwd_flag\n",
    "print(data[data['store_and_fwd_flag']==1].shape[0])\n"
   ]
  },
  {
   "cell_type": "code",
   "execution_count": null,
   "metadata": {
    "_cell_guid": "5cb4d2a2-97f9-4685-ab67-a80d0a272a15",
    "_uuid": "6b355fd7308cb08b7a82c50cf4c9e4e8d9cbd969",
    "collapsed": true
   },
   "outputs": [],
   "source": []
  },
  {
   "cell_type": "code",
   "execution_count": 6,
   "metadata": {
    "_cell_guid": "a981b1eb-09fa-4bf4-9bb7-f6682f6c04c3",
    "_uuid": "55a6ae05edfcb838e9aa45df18b154d5db6dee90",
    "collapsed": true
   },
   "outputs": [],
   "source": [
    "#converting trip duration to log(trip_duration +1) for rmsle\n",
    "data = data.assign(log_trip_duration = np.log(data.trip_duration+1)) \n"
   ]
  },
  {
   "cell_type": "code",
   "execution_count": 7,
   "metadata": {
    "_cell_guid": "7c26c035-e7f3-4a5c-974a-6f2194c591ca",
    "_uuid": "ded1e92e6005913ec9f6964c25408b3e7227d28d"
   },
   "outputs": [],
   "source": [
    "#since ride duration will depend on holiday or workday etc importing nyc 2016 holiday dataset\n",
    "holiday = pd.read_csv('dataset/NYC_2016Holidays.csv', sep = ';') # secondary dataset for restdays\n",
    "holiday['Date'] = holiday['Date'].apply(lambda x: x+ '2016')\n",
    "holidays = [datetime]"
   ]
  },
  {
   "cell_type": "code",
   "execution_count": 8,
   "metadata": {
    "_cell_guid": "df8faa6c-fec5-4591-a4f6-094c858b3fd7",
    "_uuid": "dc4b31f9dd5685f6edcbdbabf053f009bbf1385a",
    "collapsed": true
   },
   "outputs": [],
   "source": [
    "#storing restday features into new data frames (will merge them later)\n",
    "time_data = pd.DataFrame(index = range(len(data)))  \n",
    "time_test = pd.DataFrame(index = range(len(test)))"
   ]
  },
  {
   "cell_type": "code",
   "execution_count": 9,
   "metadata": {
    "_cell_guid": "9509c589-cd29-4b9d-8087-21913aeb075d",
    "_uuid": "a28869ada5a015de4befe8c37680c394cb1579c1",
    "collapsed": true
   },
   "outputs": [],
   "source": [
    "# we will list out the weekends and rest days(holidays)\n",
    "# will return if its a holiday or weekend\n",
    "\n",
    "from datetime import date\n",
    "def find_holiday(yr, month, day, holidays):\n",
    "    holiday =  [None]*len(yr)\n",
    "    weekend =  [None]*len(yr)\n",
    "    i = 0 \n",
    "    for yy,mm,dd in zip(yr, month, day):\n",
    "        #checking for saturday sunday(6,7), date.isoweekday() returns the day\n",
    "        weekend[i] = date(yy,mm,dd).isoweekday() in (6,7)\n",
    "        holiday[i] = weekend[i] or date(yy,mm,dd)  in holidays\n",
    "        i+=1\n",
    "    return holiday, weekend\n",
    "    "
   ]
  },
  {
   "cell_type": "code",
   "execution_count": 10,
   "metadata": {
    "_cell_guid": "2c573693-2d9e-4797-9813-3a17bddaaf78",
    "_uuid": "e104fa529b697e10ad1f2d2cba1095d4995d7470"
   },
   "outputs": [],
   "source": [
    "#for training data, creating rest_day and weekend columns in a new dataframe (will merge later)\n",
    "rest_day,weekend = find_holiday(data.year, data.month, data.day, holidays)\n",
    "time_data = time_data.assign(rest_day = rest_day)\n",
    "time_data = time_data.assign(weekend = weekend)\n",
    "\n",
    "#replicating for test data\n",
    "rest_day,weekend = find_holiday(test.year, test.month, test.day, holidays)\n",
    "time_test = time_test.assign(rest_day = rest_day)\n",
    "time_test = time_test.assign(weekend = weekend)"
   ]
  },
  {
   "cell_type": "code",
   "execution_count": 11,
   "metadata": {
    "_cell_guid": "8daea0bb-c9b1-4669-ba2c-3a1e00b7e43c",
    "_uuid": "49a454ad582d1f5abcb23e80da8c016c895be1e2",
    "collapsed": true
   },
   "outputs": [],
   "source": [
    "#changing time into floats \n",
    "time_data = time_data.assign(pickup_time = data.hr+data.minute/60)\n",
    "time_test = time_test.assign(pickup_time = test.hr+ test.minute/60)"
   ]
  },
  {
   "cell_type": "code",
   "execution_count": null,
   "metadata": {
    "_cell_guid": "bec36acf-007b-4110-94b7-5d997d227b48",
    "_uuid": "31e3a2d232370af7bc83681e2fff7dff4c8672ae",
    "collapsed": true
   },
   "outputs": [],
   "source": []
  },
  {
   "cell_type": "code",
   "execution_count": 12,
   "metadata": {
    "_cell_guid": "48df7cb5-2f8b-4771-8b51-60b1a1c8ade0",
    "_uuid": "98ce96f0647e8b1b6d387257641d6e5f712e32ef"
   },
   "outputs": [
    {
     "data": {
      "text/html": [
       "<div>\n",
       "<table border=\"1\" class=\"dataframe\">\n",
       "  <thead>\n",
       "    <tr style=\"text-align: right;\">\n",
       "      <th></th>\n",
       "      <th>id</th>\n",
       "      <th>total_distance</th>\n",
       "      <th>total_travel_time</th>\n",
       "      <th>number_of_steps</th>\n",
       "      <th>step_direction</th>\n",
       "    </tr>\n",
       "  </thead>\n",
       "  <tbody>\n",
       "    <tr>\n",
       "      <th>0</th>\n",
       "      <td>id2875421</td>\n",
       "      <td>2009.1</td>\n",
       "      <td>164.9</td>\n",
       "      <td>5</td>\n",
       "      <td>left|straight|right|straight|arrive</td>\n",
       "    </tr>\n",
       "    <tr>\n",
       "      <th>1</th>\n",
       "      <td>id2377394</td>\n",
       "      <td>2513.2</td>\n",
       "      <td>332.0</td>\n",
       "      <td>6</td>\n",
       "      <td>none|right|left|right|left|arrive</td>\n",
       "    </tr>\n",
       "    <tr>\n",
       "      <th>2</th>\n",
       "      <td>id3504673</td>\n",
       "      <td>1779.4</td>\n",
       "      <td>235.8</td>\n",
       "      <td>4</td>\n",
       "      <td>left|left|right|arrive</td>\n",
       "    </tr>\n",
       "    <tr>\n",
       "      <th>3</th>\n",
       "      <td>id2181028</td>\n",
       "      <td>1614.9</td>\n",
       "      <td>140.1</td>\n",
       "      <td>5</td>\n",
       "      <td>right|left|right|left|arrive</td>\n",
       "    </tr>\n",
       "    <tr>\n",
       "      <th>4</th>\n",
       "      <td>id0801584</td>\n",
       "      <td>1393.5</td>\n",
       "      <td>189.4</td>\n",
       "      <td>5</td>\n",
       "      <td>right|right|right|left|arrive</td>\n",
       "    </tr>\n",
       "  </tbody>\n",
       "</table>\n",
       "</div>"
      ],
      "text/plain": [
       "          id  total_distance  total_travel_time  number_of_steps  \\\n",
       "0  id2875421          2009.1              164.9                5   \n",
       "1  id2377394          2513.2              332.0                6   \n",
       "2  id3504673          1779.4              235.8                4   \n",
       "3  id2181028          1614.9              140.1                5   \n",
       "4  id0801584          1393.5              189.4                5   \n",
       "\n",
       "                        step_direction  \n",
       "0  left|straight|right|straight|arrive  \n",
       "1    none|right|left|right|left|arrive  \n",
       "2               left|left|right|arrive  \n",
       "3         right|left|right|left|arrive  \n",
       "4        right|right|right|left|arrive  "
      ]
     },
     "execution_count": 12,
     "metadata": {},
     "output_type": "execute_result"
    }
   ],
   "source": [
    "#using OSRM feature of fastroute (its split into 2 files)\n",
    "fastrout1 = pd.read_csv('dataset/fastest_routes_train_part_1.csv', usecols=['id','total_distance','total_travel_time','number_of_steps','step_direction'])\n",
    "fastrout2 = pd.read_csv('dataset/fastest_routes_train_part_2.csv', usecols=['id','total_distance','total_travel_time','number_of_steps','step_direction'])\n",
    "#merging data from the 2 fastrout files\n",
    "fastrout = pd.concat((fastrout1,fastrout2))\n",
    "fastrout.head()"
   ]
  },
  {
   "cell_type": "code",
   "execution_count": 13,
   "metadata": {
    "_cell_guid": "13dd9318-6ae5-42a9-b364-1bcb7ba7bae2",
    "_uuid": "28070ba608412f9bf8c78413762e266056aa3690",
    "collapsed": true
   },
   "outputs": [],
   "source": [
    "#from the data calculating the number for strict lefts and rights\n",
    "right_turn = []\n",
    "left_turn = []\n",
    "right_turn+= list(map(lambda x:x.count('right')-x.count('slight right'), fastrout.step_direction))\n",
    "left_turn+= list(map(lambda x:x.count('left')-x.count('slight left'), fastrout.step_direction))"
   ]
  },
  {
   "cell_type": "code",
   "execution_count": 14,
   "metadata": {
    "_cell_guid": "75567723-d34d-4cc6-a91a-002df8340de2",
    "_uuid": "a8d112760cf408d7ed35613f5a8636d8bd3b7e93"
   },
   "outputs": [
    {
     "data": {
      "text/html": [
       "<div>\n",
       "<table border=\"1\" class=\"dataframe\">\n",
       "  <thead>\n",
       "    <tr style=\"text-align: right;\">\n",
       "      <th></th>\n",
       "      <th>id</th>\n",
       "      <th>total_distance</th>\n",
       "      <th>total_travel_time</th>\n",
       "      <th>number_of_steps</th>\n",
       "      <th>right_steps</th>\n",
       "      <th>left_steps</th>\n",
       "    </tr>\n",
       "  </thead>\n",
       "  <tbody>\n",
       "    <tr>\n",
       "      <th>0</th>\n",
       "      <td>id2875421</td>\n",
       "      <td>2009.1</td>\n",
       "      <td>164.9</td>\n",
       "      <td>5</td>\n",
       "      <td>1</td>\n",
       "      <td>1</td>\n",
       "    </tr>\n",
       "    <tr>\n",
       "      <th>1</th>\n",
       "      <td>id2377394</td>\n",
       "      <td>2513.2</td>\n",
       "      <td>332.0</td>\n",
       "      <td>6</td>\n",
       "      <td>2</td>\n",
       "      <td>2</td>\n",
       "    </tr>\n",
       "    <tr>\n",
       "      <th>2</th>\n",
       "      <td>id3504673</td>\n",
       "      <td>1779.4</td>\n",
       "      <td>235.8</td>\n",
       "      <td>4</td>\n",
       "      <td>1</td>\n",
       "      <td>2</td>\n",
       "    </tr>\n",
       "  </tbody>\n",
       "</table>\n",
       "</div>"
      ],
      "text/plain": [
       "          id  total_distance  total_travel_time  number_of_steps  right_steps  \\\n",
       "0  id2875421          2009.1              164.9                5            1   \n",
       "1  id2377394          2513.2              332.0                6            2   \n",
       "2  id3504673          1779.4              235.8                4            1   \n",
       "\n",
       "   left_steps  \n",
       "0           1  \n",
       "1           2  \n",
       "2           2  "
      ]
     },
     "execution_count": 14,
     "metadata": {},
     "output_type": "execute_result"
    }
   ],
   "source": [
    "# storing the osrm features in a new dataframe (will merge later)\n",
    "osrm_data = fastrout[['id', 'total_distance', 'total_travel_time','number_of_steps']]\n",
    "osrm_data = osrm_data.assign(right_steps = right_turn)\n",
    "osrm_data = osrm_data.assign(left_steps = left_turn)\n",
    "osrm_data.head(3)"
   ]
  },
  {
   "cell_type": "code",
   "execution_count": 15,
   "metadata": {
    "_cell_guid": "6d7fa863-7d08-4af5-a4d6-8788a21f958a",
    "_uuid": "e9771ad209d2113423d0a585176e889e2f575be8"
   },
   "outputs": [
    {
     "data": {
      "text/html": [
       "<div>\n",
       "<table border=\"1\" class=\"dataframe\">\n",
       "  <thead>\n",
       "    <tr style=\"text-align: right;\">\n",
       "      <th></th>\n",
       "      <th>id</th>\n",
       "      <th>vendor_id</th>\n",
       "      <th>pickup_datetime</th>\n",
       "      <th>dropoff_datetime</th>\n",
       "      <th>passenger_count</th>\n",
       "      <th>pickup_longitude</th>\n",
       "      <th>pickup_latitude</th>\n",
       "      <th>dropoff_longitude</th>\n",
       "      <th>dropoff_latitude</th>\n",
       "      <th>store_and_fwd_flag</th>\n",
       "      <th>...</th>\n",
       "      <th>month</th>\n",
       "      <th>day</th>\n",
       "      <th>hr</th>\n",
       "      <th>minute</th>\n",
       "      <th>log_trip_duration</th>\n",
       "      <th>total_distance</th>\n",
       "      <th>total_travel_time</th>\n",
       "      <th>number_of_steps</th>\n",
       "      <th>right_steps</th>\n",
       "      <th>left_steps</th>\n",
       "    </tr>\n",
       "  </thead>\n",
       "  <tbody>\n",
       "    <tr>\n",
       "      <th>0</th>\n",
       "      <td>id2875421</td>\n",
       "      <td>2</td>\n",
       "      <td>2016-03-14 17:24:55</td>\n",
       "      <td>2016-03-14 17:32:30</td>\n",
       "      <td>1</td>\n",
       "      <td>-73.982155</td>\n",
       "      <td>40.767937</td>\n",
       "      <td>-73.964630</td>\n",
       "      <td>40.765602</td>\n",
       "      <td>0</td>\n",
       "      <td>...</td>\n",
       "      <td>3</td>\n",
       "      <td>14</td>\n",
       "      <td>17</td>\n",
       "      <td>24</td>\n",
       "      <td>6.122493</td>\n",
       "      <td>2009.1</td>\n",
       "      <td>164.9</td>\n",
       "      <td>5.0</td>\n",
       "      <td>1.0</td>\n",
       "      <td>1.0</td>\n",
       "    </tr>\n",
       "    <tr>\n",
       "      <th>1</th>\n",
       "      <td>id2377394</td>\n",
       "      <td>1</td>\n",
       "      <td>2016-06-12 00:43:35</td>\n",
       "      <td>2016-06-12 00:54:38</td>\n",
       "      <td>1</td>\n",
       "      <td>-73.980415</td>\n",
       "      <td>40.738564</td>\n",
       "      <td>-73.999481</td>\n",
       "      <td>40.731152</td>\n",
       "      <td>0</td>\n",
       "      <td>...</td>\n",
       "      <td>6</td>\n",
       "      <td>12</td>\n",
       "      <td>0</td>\n",
       "      <td>43</td>\n",
       "      <td>6.498282</td>\n",
       "      <td>2513.2</td>\n",
       "      <td>332.0</td>\n",
       "      <td>6.0</td>\n",
       "      <td>2.0</td>\n",
       "      <td>2.0</td>\n",
       "    </tr>\n",
       "    <tr>\n",
       "      <th>2</th>\n",
       "      <td>id3858529</td>\n",
       "      <td>2</td>\n",
       "      <td>2016-01-19 11:35:24</td>\n",
       "      <td>2016-01-19 12:10:48</td>\n",
       "      <td>1</td>\n",
       "      <td>-73.979027</td>\n",
       "      <td>40.763939</td>\n",
       "      <td>-74.005333</td>\n",
       "      <td>40.710087</td>\n",
       "      <td>0</td>\n",
       "      <td>...</td>\n",
       "      <td>1</td>\n",
       "      <td>19</td>\n",
       "      <td>11</td>\n",
       "      <td>35</td>\n",
       "      <td>7.661527</td>\n",
       "      <td>11060.8</td>\n",
       "      <td>767.6</td>\n",
       "      <td>16.0</td>\n",
       "      <td>5.0</td>\n",
       "      <td>4.0</td>\n",
       "    </tr>\n",
       "  </tbody>\n",
       "</table>\n",
       "<p>3 rows × 22 columns</p>\n",
       "</div>"
      ],
      "text/plain": [
       "          id  vendor_id     pickup_datetime     dropoff_datetime  \\\n",
       "0  id2875421          2 2016-03-14 17:24:55  2016-03-14 17:32:30   \n",
       "1  id2377394          1 2016-06-12 00:43:35  2016-06-12 00:54:38   \n",
       "2  id3858529          2 2016-01-19 11:35:24  2016-01-19 12:10:48   \n",
       "\n",
       "   passenger_count  pickup_longitude  pickup_latitude  dropoff_longitude  \\\n",
       "0                1        -73.982155        40.767937         -73.964630   \n",
       "1                1        -73.980415        40.738564         -73.999481   \n",
       "2                1        -73.979027        40.763939         -74.005333   \n",
       "\n",
       "   dropoff_latitude  store_and_fwd_flag     ...      month  day  hr  minute  \\\n",
       "0         40.765602                   0     ...          3   14  17      24   \n",
       "1         40.731152                   0     ...          6   12   0      43   \n",
       "2         40.710087                   0     ...          1   19  11      35   \n",
       "\n",
       "   log_trip_duration  total_distance  total_travel_time  number_of_steps  \\\n",
       "0           6.122493          2009.1              164.9              5.0   \n",
       "1           6.498282          2513.2              332.0              6.0   \n",
       "2           7.661527         11060.8              767.6             16.0   \n",
       "\n",
       "   right_steps  left_steps  \n",
       "0          1.0         1.0  \n",
       "1          2.0         2.0  \n",
       "2          5.0         4.0  \n",
       "\n",
       "[3 rows x 22 columns]"
      ]
     },
     "execution_count": 15,
     "metadata": {},
     "output_type": "execute_result"
    }
   ],
   "source": [
    "# making osrm data compatible to use by mapping ids\n",
    "data = data.join(osrm_data.set_index('id'), on = 'id')\n",
    "data.head(3)\n",
    "\n"
   ]
  },
  {
   "cell_type": "code",
   "execution_count": 16,
   "metadata": {
    "_cell_guid": "d592ff5b-d77a-4d94-a39d-194717329d66",
    "_uuid": "16f835c390a3a6e48e328bd8ca18cbbe726fdac4"
   },
   "outputs": [
    {
     "data": {
      "text/html": [
       "<div>\n",
       "<table border=\"1\" class=\"dataframe\">\n",
       "  <thead>\n",
       "    <tr style=\"text-align: right;\">\n",
       "      <th></th>\n",
       "      <th>id</th>\n",
       "      <th>total_distance</th>\n",
       "      <th>total_travel_time</th>\n",
       "      <th>number_of_steps</th>\n",
       "      <th>right_steps</th>\n",
       "      <th>left_steps</th>\n",
       "    </tr>\n",
       "  </thead>\n",
       "  <tbody>\n",
       "    <tr>\n",
       "      <th>0</th>\n",
       "      <td>id0771704</td>\n",
       "      <td>1497.1</td>\n",
       "      <td>200.2</td>\n",
       "      <td>7</td>\n",
       "      <td>2</td>\n",
       "      <td>3</td>\n",
       "    </tr>\n",
       "    <tr>\n",
       "      <th>1</th>\n",
       "      <td>id3274209</td>\n",
       "      <td>1427.1</td>\n",
       "      <td>141.5</td>\n",
       "      <td>2</td>\n",
       "      <td>0</td>\n",
       "      <td>0</td>\n",
       "    </tr>\n",
       "    <tr>\n",
       "      <th>2</th>\n",
       "      <td>id2756455</td>\n",
       "      <td>2312.3</td>\n",
       "      <td>324.6</td>\n",
       "      <td>9</td>\n",
       "      <td>4</td>\n",
       "      <td>4</td>\n",
       "    </tr>\n",
       "  </tbody>\n",
       "</table>\n",
       "</div>"
      ],
      "text/plain": [
       "          id  total_distance  total_travel_time  number_of_steps  right_steps  \\\n",
       "0  id0771704          1497.1              200.2                7            2   \n",
       "1  id3274209          1427.1              141.5                2            0   \n",
       "2  id2756455          2312.3              324.6                9            4   \n",
       "\n",
       "   left_steps  \n",
       "0           3  \n",
       "1           0  \n",
       "2           4  "
      ]
     },
     "execution_count": 16,
     "metadata": {},
     "output_type": "execute_result"
    }
   ],
   "source": [
    "#replicating for test data\n",
    "osrm_test = pd.read_csv('dataset/fastest_routes_test.csv')\n",
    "right_turn= list(map(lambda x:x.count('right')-x.count('slight right'),osrm_test.step_direction))\n",
    "left_turn = list(map(lambda x:x.count('left')-x.count('slight left'),osrm_test.step_direction))\n",
    "\n",
    "osrm_test = osrm_test[['id','total_distance','total_travel_time','number_of_steps']]\n",
    "osrm_test = osrm_test.assign(right_steps=right_turn)\n",
    "osrm_test = osrm_test.assign(left_steps=left_turn)\n",
    "osrm_test.head(3)"
   ]
  },
  {
   "cell_type": "code",
   "execution_count": 17,
   "metadata": {
    "_cell_guid": "e968af6d-0ce7-460e-b223-3a84bd553bd8",
    "_uuid": "ed3db15b9e991c174e18762e3c67eefc22cd5910",
    "collapsed": true
   },
   "outputs": [],
   "source": [
    "test = test.join(osrm_test.set_index('id'), on='id')"
   ]
  },
  {
   "cell_type": "code",
   "execution_count": 18,
   "metadata": {
    "_cell_guid": "77590c02-1faf-4935-aecf-4878ae5fa91a",
    "_uuid": "b9fba7fa329af335442a0614426ffff51471c169"
   },
   "outputs": [
    {
     "data": {
      "text/html": [
       "<div>\n",
       "<table border=\"1\" class=\"dataframe\">\n",
       "  <thead>\n",
       "    <tr style=\"text-align: right;\">\n",
       "      <th></th>\n",
       "      <th>id</th>\n",
       "      <th>total_distance</th>\n",
       "      <th>total_travel_time</th>\n",
       "      <th>number_of_steps</th>\n",
       "      <th>right_steps</th>\n",
       "      <th>left_steps</th>\n",
       "    </tr>\n",
       "  </thead>\n",
       "  <tbody>\n",
       "    <tr>\n",
       "      <th>0</th>\n",
       "      <td>id0771704</td>\n",
       "      <td>1497.1</td>\n",
       "      <td>200.2</td>\n",
       "      <td>7</td>\n",
       "      <td>2</td>\n",
       "      <td>3</td>\n",
       "    </tr>\n",
       "    <tr>\n",
       "      <th>1</th>\n",
       "      <td>id3274209</td>\n",
       "      <td>1427.1</td>\n",
       "      <td>141.5</td>\n",
       "      <td>2</td>\n",
       "      <td>0</td>\n",
       "      <td>0</td>\n",
       "    </tr>\n",
       "    <tr>\n",
       "      <th>2</th>\n",
       "      <td>id2756455</td>\n",
       "      <td>2312.3</td>\n",
       "      <td>324.6</td>\n",
       "      <td>9</td>\n",
       "      <td>4</td>\n",
       "      <td>4</td>\n",
       "    </tr>\n",
       "  </tbody>\n",
       "</table>\n",
       "</div>"
      ],
      "text/plain": [
       "          id  total_distance  total_travel_time  number_of_steps  right_steps  \\\n",
       "0  id0771704          1497.1              200.2                7            2   \n",
       "1  id3274209          1427.1              141.5                2            0   \n",
       "2  id2756455          2312.3              324.6                9            4   \n",
       "\n",
       "   left_steps  \n",
       "0           3  \n",
       "1           0  \n",
       "2           4  "
      ]
     },
     "execution_count": 18,
     "metadata": {},
     "output_type": "execute_result"
    }
   ],
   "source": [
    "osrm_test.head(3)"
   ]
  },
  {
   "cell_type": "code",
   "execution_count": 19,
   "metadata": {
    "_cell_guid": "fee0692e-b50d-418e-a62a-4c5c32b4542a",
    "_uuid": "3e04d8912f2b4a228b49bfe8501dc8d2650b05cb",
    "collapsed": true
   },
   "outputs": [],
   "source": [
    "# final osrm features\n",
    "osrm_data = data[['total_distance','total_travel_time','number_of_steps','right_steps','left_steps']]\n",
    "osrm_test = test[['total_distance','total_travel_time','number_of_steps','right_steps','left_steps']]"
   ]
  },
  {
   "cell_type": "code",
   "execution_count": 20,
   "metadata": {
    "_cell_guid": "0ff9f219-f9dd-4f20-813c-d2ae6d15c7f4",
    "_uuid": "8cfac0f9abeddcf424852ad9845be5c8dc1ffa15",
    "collapsed": true
   },
   "outputs": [],
   "source": [
    "# DISTANCE METRICS\n",
    "#haversine manhattan and bearing distance\n",
    "def haversine_array(lat1, lng1, lat2, lng2):\n",
    "    lat1,lng1,lat2,lng2 = map(np.radians, (lat1,lng1,lat2,lng2))\n",
    "    earth_radius = 6371 #km\n",
    "    lat = lat2-lat1\n",
    "    lng = lng2-lng1\n",
    "    d = np.sin(lat*0.5) **2 + np.cos(lat1) * np.cos(lat2) * np.sin(lng *0.5)**2\n",
    "    h = 2 * earth_radius * np.arcsin(np.sqrt(d))\n",
    "    return h\n",
    "\n",
    "def manhattan_distance(lat1, lat2, lng1, lng2):\n",
    "    a = haversine_array(lat1,lng1,lat1,lng2)\n",
    "    b = haversine_array(lat1,lng1,lat2,lng1)\n",
    "    return a+b\n",
    "\n",
    "def bearing_array(lat1, lng1, lat2, lng2):\n",
    "    lng_delta_rad = np.radians(lng2 - lng1)\n",
    "    lat1, lng1, lat2, lng2 = map(np.radians, (lat1, lng1, lat2, lng2))\n",
    "    y = np.sin(lng_delta_rad) * np.cos(lat2)\n",
    "    x = np.cos(lat1) * np.sin(lat2) - np.sin(lat1) * np.cos(lat2) * np.cos(lng_delta_rad)\n",
    "    return np.degrees(np.arctan2(y, x))\n",
    "    \n",
    "    "
   ]
  },
  {
   "cell_type": "code",
   "execution_count": 21,
   "metadata": {
    "_cell_guid": "d5829d13-3ac7-4572-b7a9-23d64d7b26a2",
    "_uuid": "d92842725ec6851add969e97552b8086e4c4aa65",
    "collapsed": true
   },
   "outputs": [],
   "source": [
    "#calculating and saving distance features in a new dataframe\n",
    "\n",
    "List_dist = []\n",
    "for df in (data,test):\n",
    "    lat1, lng1, lat2, lng2 = (df['pickup_latitude'].values, df['pickup_longitude'].values, \n",
    "                              df['dropoff_latitude'].values,df['dropoff_longitude'].values)\n",
    "    dist = pd.DataFrame(index=range(len(df)))\n",
    "    dist = dist.assign(haversine_dist = haversine_array(lat1, lng1, lat2, lng2))\n",
    "    dist = dist.assign(manhattan_dist = manhattan_distance(lat1, lng1, lat2, lng2))\n",
    "    dist = dist.assign(bearing = bearing_array(lat1, lng1, lat2, lng2))\n",
    "    List_dist.append(dist)\n",
    "Other_dist_data,Other_dist_test = List_dist"
   ]
  },
  {
   "cell_type": "code",
   "execution_count": 22,
   "metadata": {
    "_cell_guid": "72624493-455f-47ab-bc72-4d64c57627fd",
    "_uuid": "ea991abe585f42750415e3a0d226f7e15b5c393c",
    "collapsed": true
   },
   "outputs": [],
   "source": [
    "##### using k means to make clusters of locations\n",
    "coord_pickup = np.vstack((data[['pickup_latitude', 'pickup_longitude']].values, test[['pickup_latitude','pickup_longitude']].values))\n",
    "coord_dropoff = np.vstack((data[['dropoff_latitude', 'dropoff_longitude']].values, test[['dropoff_latitude','dropoff_longitude']].values))\n",
    "\n",
    "# creating a 4d data for k means\n",
    "coords = np.hstack((coord_pickup,coord_dropoff))\n",
    "sample_ind = np.random.permutation(len(coords))[:500000]\n",
    "kmeans = MiniBatchKMeans(n_clusters=10, batch_size =10000).fit(coords[sample_ind])\n",
    "for df in (data,test):\n",
    "    df.loc[:,'pickup_dropoff_loc'] = kmeans.predict(df[['pickup_latitude', 'pickup_longitude',\n",
    "                                                         'dropoff_latitude','dropoff_longitude']])"
   ]
  },
  {
   "cell_type": "code",
   "execution_count": 23,
   "metadata": {
    "_cell_guid": "13346868-0d8c-48ac-866d-3a4b796722cf",
    "_uuid": "73c23f388ca313423576e44afab6cef4770093a7",
    "collapsed": true
   },
   "outputs": [],
   "source": [
    "# saving location clusters\n",
    "kmean_data = data[['pickup_dropoff_loc']]\n",
    "kmean_test = test[['pickup_dropoff_loc']]\n"
   ]
  },
  {
   "cell_type": "code",
   "execution_count": 24,
   "metadata": {
    "_cell_guid": "b92984ca-925a-4c91-8c10-c181ce67da08",
    "_uuid": "3708d3490ad1147109ae8aca1e1ba69031bd31df"
   },
   "outputs": [
    {
     "data": {
      "text/html": [
       "<div>\n",
       "<table border=\"1\" class=\"dataframe\">\n",
       "  <thead>\n",
       "    <tr style=\"text-align: right;\">\n",
       "      <th></th>\n",
       "      <th>Time</th>\n",
       "      <th>Temp.</th>\n",
       "      <th>Windchill</th>\n",
       "      <th>Heat Index</th>\n",
       "      <th>Humidity</th>\n",
       "      <th>Pressure</th>\n",
       "      <th>Dew Point</th>\n",
       "      <th>Visibility</th>\n",
       "      <th>Wind Dir</th>\n",
       "      <th>Wind Speed</th>\n",
       "      <th>Gust Speed</th>\n",
       "      <th>Precip</th>\n",
       "      <th>Events</th>\n",
       "      <th>Conditions</th>\n",
       "    </tr>\n",
       "  </thead>\n",
       "  <tbody>\n",
       "    <tr>\n",
       "      <th>0</th>\n",
       "      <td>2015-12-31 02:00:00</td>\n",
       "      <td>7.8</td>\n",
       "      <td>7.1</td>\n",
       "      <td>NaN</td>\n",
       "      <td>0.89</td>\n",
       "      <td>1017.0</td>\n",
       "      <td>6.1</td>\n",
       "      <td>8.0</td>\n",
       "      <td>NNE</td>\n",
       "      <td>5.6</td>\n",
       "      <td>0.0</td>\n",
       "      <td>0.8</td>\n",
       "      <td>None</td>\n",
       "      <td>Overcast</td>\n",
       "    </tr>\n",
       "    <tr>\n",
       "      <th>1</th>\n",
       "      <td>2015-12-31 03:00:00</td>\n",
       "      <td>7.2</td>\n",
       "      <td>5.9</td>\n",
       "      <td>NaN</td>\n",
       "      <td>0.90</td>\n",
       "      <td>1016.5</td>\n",
       "      <td>5.6</td>\n",
       "      <td>12.9</td>\n",
       "      <td>Variable</td>\n",
       "      <td>7.4</td>\n",
       "      <td>0.0</td>\n",
       "      <td>0.3</td>\n",
       "      <td>None</td>\n",
       "      <td>Overcast</td>\n",
       "    </tr>\n",
       "    <tr>\n",
       "      <th>2</th>\n",
       "      <td>2015-12-31 04:00:00</td>\n",
       "      <td>7.2</td>\n",
       "      <td>NaN</td>\n",
       "      <td>NaN</td>\n",
       "      <td>0.90</td>\n",
       "      <td>1016.7</td>\n",
       "      <td>5.6</td>\n",
       "      <td>12.9</td>\n",
       "      <td>Calm</td>\n",
       "      <td>0.0</td>\n",
       "      <td>0.0</td>\n",
       "      <td>0.0</td>\n",
       "      <td>None</td>\n",
       "      <td>Overcast</td>\n",
       "    </tr>\n",
       "    <tr>\n",
       "      <th>3</th>\n",
       "      <td>2015-12-31 05:00:00</td>\n",
       "      <td>7.2</td>\n",
       "      <td>5.9</td>\n",
       "      <td>NaN</td>\n",
       "      <td>0.86</td>\n",
       "      <td>1015.9</td>\n",
       "      <td>5.0</td>\n",
       "      <td>14.5</td>\n",
       "      <td>NW</td>\n",
       "      <td>7.4</td>\n",
       "      <td>0.0</td>\n",
       "      <td>0.0</td>\n",
       "      <td>None</td>\n",
       "      <td>Overcast</td>\n",
       "    </tr>\n",
       "    <tr>\n",
       "      <th>4</th>\n",
       "      <td>2015-12-31 06:00:00</td>\n",
       "      <td>7.2</td>\n",
       "      <td>6.4</td>\n",
       "      <td>NaN</td>\n",
       "      <td>0.90</td>\n",
       "      <td>1016.2</td>\n",
       "      <td>5.6</td>\n",
       "      <td>11.3</td>\n",
       "      <td>West</td>\n",
       "      <td>5.6</td>\n",
       "      <td>0.0</td>\n",
       "      <td>0.0</td>\n",
       "      <td>None</td>\n",
       "      <td>Overcast</td>\n",
       "    </tr>\n",
       "  </tbody>\n",
       "</table>\n",
       "</div>"
      ],
      "text/plain": [
       "                 Time  Temp.  Windchill  Heat Index  Humidity  Pressure  \\\n",
       "0 2015-12-31 02:00:00    7.8        7.1         NaN      0.89    1017.0   \n",
       "1 2015-12-31 03:00:00    7.2        5.9         NaN      0.90    1016.5   \n",
       "2 2015-12-31 04:00:00    7.2        NaN         NaN      0.90    1016.7   \n",
       "3 2015-12-31 05:00:00    7.2        5.9         NaN      0.86    1015.9   \n",
       "4 2015-12-31 06:00:00    7.2        6.4         NaN      0.90    1016.2   \n",
       "\n",
       "   Dew Point  Visibility  Wind Dir  Wind Speed  Gust Speed  Precip Events  \\\n",
       "0        6.1         8.0       NNE         5.6         0.0     0.8   None   \n",
       "1        5.6        12.9  Variable         7.4         0.0     0.3   None   \n",
       "2        5.6        12.9      Calm         0.0         0.0     0.0   None   \n",
       "3        5.0        14.5        NW         7.4         0.0     0.0   None   \n",
       "4        5.6        11.3      West         5.6         0.0     0.0   None   \n",
       "\n",
       "  Conditions  \n",
       "0   Overcast  \n",
       "1   Overcast  \n",
       "2   Overcast  \n",
       "3   Overcast  \n",
       "4   Overcast  "
      ]
     },
     "execution_count": 24,
     "metadata": {},
     "output_type": "execute_result"
    }
   ],
   "source": [
    "# WEATHER DATA\n",
    "weather = pd.read_csv('dataset/KNYC_Metars.csv', parse_dates=['Time'])\n",
    "weather.head(5)"
   ]
  },
  {
   "cell_type": "code",
   "execution_count": 25,
   "metadata": {
    "_cell_guid": "14a5c015-1002-43df-aa88-73833aba28e1",
    "_uuid": "13291f1e89b3291611401b90f3e2c2d78881a919"
   },
   "outputs": [
    {
     "name": "stdout",
     "output_type": "stream",
     "text": [
      "{'Fog\\n\\t,\\nRain', 'None', 'Rain', 'Snow', 'Fog\\n\\t,\\nSnow', 'Fog'}\n"
     ]
    }
   ],
   "source": [
    "#possible events\n",
    "print(set(weather.Events))\n",
    "#assuming snow to play a role with or without fog "
   ]
  },
  {
   "cell_type": "code",
   "execution_count": 26,
   "metadata": {
    "_cell_guid": "1df25b76-175c-4c88-95be-1c8529e17a4c",
    "_uuid": "9a7aa698b8be33a0fb9803dcd57db333e8859acc",
    "collapsed": true
   },
   "outputs": [],
   "source": [
    "weather['snow'] = 1*(weather.Events == 'Snow') + 1*(weather.Events == 'Fog\\n\\t,\\nSnow')\n",
    "weather['year'] = weather['Time'].dt.year\n",
    "weather['month'] = weather['Time'].dt.month\n",
    "weather['day'] = weather['Time'].dt.day\n",
    "weather['hr'] = weather['Time'].dt.hour\n",
    "weather = weather[weather['year']== 2016][['month','day','hr','Temp.','Precip','snow', 'Visibility']]"
   ]
  },
  {
   "cell_type": "code",
   "execution_count": 27,
   "metadata": {
    "_cell_guid": "50bd814a-f038-4723-99f8-584fbd99aea1",
    "_uuid": "0313fb32eb895999631d31f2a792957ecea98cfe"
   },
   "outputs": [
    {
     "data": {
      "text/html": [
       "<div>\n",
       "<table border=\"1\" class=\"dataframe\">\n",
       "  <thead>\n",
       "    <tr style=\"text-align: right;\">\n",
       "      <th></th>\n",
       "      <th>month</th>\n",
       "      <th>day</th>\n",
       "      <th>hr</th>\n",
       "      <th>Temp.</th>\n",
       "      <th>Precip</th>\n",
       "      <th>snow</th>\n",
       "      <th>Visibility</th>\n",
       "    </tr>\n",
       "  </thead>\n",
       "  <tbody>\n",
       "    <tr>\n",
       "      <th>22</th>\n",
       "      <td>1</td>\n",
       "      <td>1</td>\n",
       "      <td>0</td>\n",
       "      <td>5.6</td>\n",
       "      <td>0.0</td>\n",
       "      <td>0</td>\n",
       "      <td>16.1</td>\n",
       "    </tr>\n",
       "    <tr>\n",
       "      <th>23</th>\n",
       "      <td>1</td>\n",
       "      <td>1</td>\n",
       "      <td>1</td>\n",
       "      <td>5.6</td>\n",
       "      <td>0.0</td>\n",
       "      <td>0</td>\n",
       "      <td>16.1</td>\n",
       "    </tr>\n",
       "    <tr>\n",
       "      <th>24</th>\n",
       "      <td>1</td>\n",
       "      <td>1</td>\n",
       "      <td>2</td>\n",
       "      <td>5.6</td>\n",
       "      <td>0.0</td>\n",
       "      <td>0</td>\n",
       "      <td>16.1</td>\n",
       "    </tr>\n",
       "  </tbody>\n",
       "</table>\n",
       "</div>"
      ],
      "text/plain": [
       "    month  day  hr  Temp.  Precip  snow  Visibility\n",
       "22      1    1   0    5.6     0.0     0        16.1\n",
       "23      1    1   1    5.6     0.0     0        16.1\n",
       "24      1    1   2    5.6     0.0     0        16.1"
      ]
     },
     "execution_count": 27,
     "metadata": {},
     "output_type": "execute_result"
    }
   ],
   "source": [
    "weather.head(3)"
   ]
  },
  {
   "cell_type": "code",
   "execution_count": 28,
   "metadata": {
    "_cell_guid": "c2bc81d6-04bf-443c-bbc3-d0b453a0f75c",
    "_uuid": "b6d4bb87d46905121f549ecabf2fcf7b0af5b996",
    "collapsed": true
   },
   "outputs": [],
   "source": [
    "# merging weather data by mapping the datetime stamps\n",
    "data = pd.merge(data, weather, on=['month', 'day', 'hr'], how = 'left')\n",
    "test = pd.merge(test, weather, on=['month', 'day', 'hr'], how = 'left')"
   ]
  },
  {
   "cell_type": "code",
   "execution_count": 29,
   "metadata": {
    "_cell_guid": "fa079a1f-66bd-4d4c-a675-cdfe50d162c7",
    "_uuid": "bb498bd5b58d9ceff9f72589fe56e97c2d56f3c2",
    "collapsed": true
   },
   "outputs": [],
   "source": [
    "#weather features stored in a new data frame\n",
    "weather_data = data[['Temp.','Precip','snow','Visibility']]\n",
    "weather_test = test[['Temp.','Precip','snow','Visibility']]"
   ]
  },
  {
   "cell_type": "code",
   "execution_count": 30,
   "metadata": {
    "_cell_guid": "fc63198d-d18e-455b-8a81-df2c4ff1c060",
    "_uuid": "84cf6a35ca2f73e4af6b3bdbde1a6a93db720518"
   },
   "outputs": [
    {
     "data": {
      "text/html": [
       "<div>\n",
       "<table border=\"1\" class=\"dataframe\">\n",
       "  <thead>\n",
       "    <tr style=\"text-align: right;\">\n",
       "      <th></th>\n",
       "      <th>Temp.</th>\n",
       "      <th>Precip</th>\n",
       "      <th>snow</th>\n",
       "      <th>Visibility</th>\n",
       "    </tr>\n",
       "  </thead>\n",
       "  <tbody>\n",
       "    <tr>\n",
       "      <th>0</th>\n",
       "      <td>4.4</td>\n",
       "      <td>0.3</td>\n",
       "      <td>0.0</td>\n",
       "      <td>8.0</td>\n",
       "    </tr>\n",
       "    <tr>\n",
       "      <th>1</th>\n",
       "      <td>28.9</td>\n",
       "      <td>0.0</td>\n",
       "      <td>0.0</td>\n",
       "      <td>16.1</td>\n",
       "    </tr>\n",
       "    <tr>\n",
       "      <th>2</th>\n",
       "      <td>-6.7</td>\n",
       "      <td>0.0</td>\n",
       "      <td>0.0</td>\n",
       "      <td>16.1</td>\n",
       "    </tr>\n",
       "    <tr>\n",
       "      <th>3</th>\n",
       "      <td>7.2</td>\n",
       "      <td>0.0</td>\n",
       "      <td>0.0</td>\n",
       "      <td>16.1</td>\n",
       "    </tr>\n",
       "    <tr>\n",
       "      <th>4</th>\n",
       "      <td>9.4</td>\n",
       "      <td>0.0</td>\n",
       "      <td>0.0</td>\n",
       "      <td>16.1</td>\n",
       "    </tr>\n",
       "  </tbody>\n",
       "</table>\n",
       "</div>"
      ],
      "text/plain": [
       "   Temp.  Precip  snow  Visibility\n",
       "0    4.4     0.3   0.0         8.0\n",
       "1   28.9     0.0   0.0        16.1\n",
       "2   -6.7     0.0   0.0        16.1\n",
       "3    7.2     0.0   0.0        16.1\n",
       "4    9.4     0.0   0.0        16.1"
      ]
     },
     "execution_count": 30,
     "metadata": {},
     "output_type": "execute_result"
    }
   ],
   "source": [
    "weather_data.head()"
   ]
  },
  {
   "cell_type": "code",
   "execution_count": 31,
   "metadata": {
    "_cell_guid": "f3cb98a9-4c19-4d4b-8414-dcc068db268e",
    "_uuid": "88f456712097fcc052497241cc6cc751b3a97637"
   },
   "outputs": [],
   "source": [
    "#DATA Visualization\n"
   ]
  },
  {
   "cell_type": "code",
   "execution_count": 32,
   "metadata": {
    "_cell_guid": "26418573-36af-4762-a4f4-d020f5d4d94b",
    "_uuid": "6b8ab2bc21133a9fbfa70fad472165aa6370829c"
   },
   "outputs": [
    {
     "data": {
      "image/png": "[encoded data removed]",
      "text/plain": [
       "<matplotlib.figure.Figure at 0x1a482ed2d68>"
      ]
     },
     "metadata": {},
     "output_type": "display_data"
    }
   ],
   "source": [
    "# Calculate the manhattan distance and speed\n",
    "manhattan = manhattan_distance(data['pickup_latitude'],data['dropoff_latitude'],data['pickup_longitude'],data['dropoff_longitude'])\n",
    "manhattan_speed = manhattan / data['trip_duration']\n",
    "\n",
    "# Plot speed against the time of day\n",
    "sns.set(font_scale=1.2)\n",
    "plt.figure(figsize=(12, 5))\n",
    "sns.boxplot(data['hr'], manhattan_speed, showfliers=False)\n",
    "plt.title('Average speeds vs. time of day')\n",
    "plt.ylabel('Average Speed')\n",
    "plt.xlabel('Hour')\n",
    "plt.show()"
   ]
  },
  {
   "cell_type": "code",
   "execution_count": 33,
   "metadata": {
    "_cell_guid": "891eacee-2f5d-4d5e-b065-b6b9c3473d42",
    "_uuid": "c7f82f963e0528c40bf73ad8aec9a181244f94d1"
   },
   "outputs": [
    {
     "data": {
      "image/png": "[encoded data removed]",
      "text/plain": [
       "<matplotlib.figure.Figure at 0x1a4dcd6d198>"
      ]
     },
     "metadata": {},
     "output_type": "display_data"
    }
   ],
   "source": [
    "# distributionof trip duration\n",
    "sns.set(font_scale=1.2)\n",
    "plt.figure(figsize=(6, 5))\n",
    "plt.hist(sorted(data['log_trip_duration']), bins=100, normed=True)\n",
    "plt.title('Distribution curve of rides w.r.t Duration(in log)')\n",
    "plt.ylabel('Ride Distribution')\n",
    "plt.xlabel('log_trip_duration')\n",
    "plt.show()"
   ]
  },
  {
   "cell_type": "code",
   "execution_count": 34,
   "metadata": {
    "_cell_guid": "bca7d9ef-25cc-45e9-a432-b946f5127d0a",
    "_uuid": "97aab26ba6afc8a64be6706cad6dabefa0eef17a",
    "collapsed": true
   },
   "outputs": [],
   "source": [
    "#Workhours time\n",
    "tempdata = data\n",
    "tempdata = pd.concat([tempdata, time_data], axis=1)"
   ]
  },
  {
   "cell_type": "code",
   "execution_count": 35,
   "metadata": {
    "_cell_guid": "027810c0-e861-4122-98e9-880bbd1db62e",
    "_uuid": "ba4bd4816bf02bcc1ee1fe938d321906d1c09790"
   },
   "outputs": [
    {
     "data": {
      "text/plain": [
       "<matplotlib.text.Text at 0x1a4ba6e59b0>"
      ]
     },
     "execution_count": 35,
     "metadata": {},
     "output_type": "execute_result"
    },
    {
     "data": {
      "image/png": "[encoded data removed]",
      "text/plain": [
       "<matplotlib.figure.Figure at 0x1a4dcd6d278>"
      ]
     },
     "metadata": {},
     "output_type": "display_data"
    }
   ],
   "source": [
    "#fig = plt.figure(figsize = (18,8))\n",
    "sns.set(font_scale=1.2)\n",
    "plt.figure(figsize=(18, 8))\n",
    "sns.boxplot(x = \"hr\", y=\"log_trip_duration\", data = data, showfliers = False)\n",
    "plt.title(\"log_trip_duration vs hr of the day\")"
   ]
  },
  {
   "cell_type": "code",
   "execution_count": 36,
   "metadata": {
    "_cell_guid": "2a68f175-157a-45a6-b0dd-2bcffb1bf432",
    "_uuid": "d3ff10d1e92473dcf26c88b360440a4c276c0eb1"
   },
   "outputs": [
    {
     "data": {
      "text/plain": [
       "<matplotlib.text.Text at 0x1a4f8055c88>"
      ]
     },
     "execution_count": 36,
     "metadata": {},
     "output_type": "execute_result"
    },
    {
     "data": {
      "image/png": "[encoded data removed]",
      "text/plain": [
       "<matplotlib.figure.Figure at 0x1a4ba884518>"
      ]
     },
     "metadata": {},
     "output_type": "display_data"
    }
   ],
   "source": [
    "#month vs trip_duration\n",
    "sns.violinplot(x = \"month\", y=\"log_trip_duration\", hue = \"rest_day\", data=tempdata, split=True, inner = \"quart\")\n",
    "plt.title(\"Comparision of log_trip_duration vs month for rest_day and working day\")"
   ]
  },
  {
   "cell_type": "code",
   "execution_count": null,
   "metadata": {
    "_cell_guid": "929d120f-8db6-4160-82a1-246b14d60cf4",
    "_uuid": "4d8a7314b9b6a0096874fd0872d066dbb86b9a6c"
   },
   "outputs": [],
   "source": []
  },
  {
   "cell_type": "code",
   "execution_count": 37,
   "metadata": {
    "_cell_guid": "3c6ecb44-1dec-4e3f-ba1e-344235ea67d5",
    "_uuid": "de9f198c883c5d46a592f831fabc7b6356c5a49d",
    "collapsed": true
   },
   "outputs": [],
   "source": [
    "#THE XGBOOST\n",
    "# dropping off the target variables\n",
    "mydf = data[['vendor_id','passenger_count','pickup_longitude','pickup_latitude','dropoff_longitude','dropoff_latitude','store_and_fwd_flag']]\n",
    "testdf = test[['vendor_id','passenger_count','pickup_longitude','pickup_latitude','dropoff_longitude','dropoff_latitude','store_and_fwd_flag']]"
   ]
  },
  {
   "cell_type": "code",
   "execution_count": 38,
   "metadata": {
    "_cell_guid": "ebaca58d-ae60-4778-ad61-5d849331ea24",
    "_uuid": "27cc24160f80aa57c4a64751699090014d411096",
    "collapsed": true
   },
   "outputs": [],
   "source": [
    "#converting kmeans data into one hot encoding for XGBOOSTING\n",
    "kmeans_data = pd.get_dummies(kmean_data.pickup_dropoff_loc, prefix='loc', prefix_sep = '_')\n",
    "kmeans_test = pd.get_dummies(kmean_test.pickup_dropoff_loc, prefix='loc', prefix_sep = '_')"
   ]
  },
  {
   "cell_type": "code",
   "execution_count": 39,
   "metadata": {},
   "outputs": [],
   "source": [
    "#merging the entire feature space\n",
    "mydf  = pd.concat([mydf  ,time_data,weather_data,osrm_data,Other_dist_data,kmeans_data],axis=1)\n",
    "testdf= pd.concat([testdf,time_test,weather_test,osrm_test,Other_dist_test,kmeans_test],axis=1)"
   ]
  },
  {
   "cell_type": "code",
   "execution_count": 40,
   "metadata": {
    "_cell_guid": "f813607b-2b1f-4b2c-b2d4-3344f67b12c0",
    "_uuid": "0d511e37223ae424d8656f1480960ff2640a8bc5"
   },
   "outputs": [
    {
     "name": "stdout",
     "output_type": "stream",
     "text": [
      "True\n"
     ]
    }
   ],
   "source": [
    "# checking if test and training sets are similar\n",
    "print(np.all(mydf.keys()==testdf.keys()))"
   ]
  },
  {
   "cell_type": "code",
   "execution_count": 41,
   "metadata": {
    "_cell_guid": "5ff54ad6-f5ca-4006-8275-1a2f6fb1cf05",
    "_uuid": "4e5109b5a323f5f7ce22f2a693687c275abfda2b",
    "collapsed": true
   },
   "outputs": [],
   "source": [
    "\n",
    "X = mydf\n",
    "z = data['log_trip_duration'].values\n"
   ]
  },
  {
   "cell_type": "code",
   "execution_count": 42,
   "metadata": {
    "_cell_guid": "1cd8483d-194d-488f-8ff7-bfea4b84dcfa",
    "_uuid": "ca84b90c23a1c3934644f9d670831c080be271b1"
   },
   "outputs": [
    {
     "name": "stdout",
     "output_type": "stream",
     "text": [
      "[ True  True  True  True  True  True  True  True  True  True  True  True\n",
      "  True  True  True  True  True  True  True  True  True  True  True  True\n",
      "  True  True  True  True  True  True  True  True]\n"
     ]
    }
   ],
   "source": [
    "# verifying if the keys are similar\n",
    "print(X.keys() == testdf.keys())"
   ]
  },
  {
   "cell_type": "code",
   "execution_count": 43,
   "metadata": {
    "_cell_guid": "a6fa00df-3183-4be4-a0d2-2f6c1c196493",
    "_uuid": "b3e69dcb74e071897675f11f49b69f1decdd5dc7"
   },
   "outputs": [
    {
     "name": "stderr",
     "output_type": "stream",
     "text": [
      "C:\\Users\\akuppal\\AppData\\Local\\Continuum\\Anaconda3\\lib\\site-packages\\sklearn\\cross_validation.py:41: DeprecationWarning: This module was deprecated in version 0.18 in favor of the model_selection module into which all the refactored classes and functions are moved. Also note that the interface of the new CV iterators are different from that of this module. This module will be removed in 0.20.\n",
      "  \"This module will be removed in 0.20.\", DeprecationWarning)\n"
     ]
    }
   ],
   "source": [
    "import xgboost as xgb\n",
    "from sklearn.model_selection import train_test_split"
   ]
  },
  {
   "cell_type": "code",
   "execution_count": 44,
   "metadata": {
    "_cell_guid": "f087689b-2b19-415c-8dc9-a6b7155b5376",
    "_uuid": "78b4eb76881436f88caa331e9b60db627f11d728"
   },
   "outputs": [],
   "source": [
    "# 80-20 split for training and validation\n",
    "Xtrain, Xval, Ztrain, Zval = train_test_split(X, z, test_size=0.2, random_state =42)\n",
    "#50-50 validation set split\n",
    "Xcv,Xv,Zcv,Zv = train_test_split(Xval, Zval, test_size=0.5, random_state=1)\n",
    "#DMatrix conversion for xgb\n",
    "data_tr  = xgb.DMatrix(Xtrain, label=Ztrain)\n",
    "data_cv  = xgb.DMatrix(Xcv   , label=Zcv)\n",
    "evallist = [(data_tr, 'train'), (data_cv, 'valid')]\n"
   ]
  },
  {
   "cell_type": "code",
   "execution_count": 45,
   "metadata": {
    "_cell_guid": "adf609b5-5f97-4ce5-a88c-fdab553a1d8d",
    "_uuid": "25d4afb84059f6e5023ebce069f809e79d754b45"
   },
   "outputs": [
    {
     "name": "stdout",
     "output_type": "stream",
     "text": [
      "[0]\ttrain-rmse:5.72016\tvalid-rmse:5.72079\n",
      "Multiple eval metrics have been passed: 'valid-rmse' will be used for early stopping.\n",
      "\n",
      "Will train until valid-rmse hasn't improved in 50 rounds.\n",
      "[100]\ttrain-rmse:0.29356\tvalid-rmse:0.388537\n",
      "[200]\ttrain-rmse:0.248939\tvalid-rmse:0.381138\n",
      "[300]\ttrain-rmse:0.228276\tvalid-rmse:0.379718\n",
      "[400]\ttrain-rmse:0.21446\tvalid-rmse:0.379016\n",
      "[500]\ttrain-rmse:0.202478\tvalid-rmse:0.378518\n",
      "[600]\ttrain-rmse:0.191081\tvalid-rmse:0.378151\n",
      "[700]\ttrain-rmse:0.181557\tvalid-rmse:0.377872\n",
      "[800]\ttrain-rmse:0.173574\tvalid-rmse:0.377684\n",
      "[900]\ttrain-rmse:0.166302\tvalid-rmse:0.377556\n",
      "[1000]\ttrain-rmse:0.158765\tvalid-rmse:0.377493\n",
      "[1100]\ttrain-rmse:0.152382\tvalid-rmse:0.377382\n",
      "[1200]\ttrain-rmse:0.146716\tvalid-rmse:0.377352\n",
      "[1300]\ttrain-rmse:0.140502\tvalid-rmse:0.377254\n",
      "[1400]\ttrain-rmse:0.134977\tvalid-rmse:0.377191\n",
      "[1500]\ttrain-rmse:0.130151\tvalid-rmse:0.377179\n",
      "Stopping. Best iteration:\n",
      "[1529]\ttrain-rmse:0.128616\tvalid-rmse:0.377168\n",
      "\n",
      "score = 0.37717, n_boost_round =1529.\n"
     ]
    }
   ],
   "source": [
    "parms = {'max_depth':15, #maximum depth of a tree 8 12\n",
    "         'objective':'reg:linear',\n",
    "         'eta'      :0.05, #0.3\n",
    "         'subsample':0.9,#SGD will use this percentage of data 0.8 0.99\n",
    "         'lambda '  :3, #L2 regularization term,>1 more conservative 4 \n",
    "         'colsample_bytree ':0.6, #0.9\n",
    "         'colsample_bylevel':0.7, #1 0.7\n",
    "         'min_child_weight': 0.5, #10 0.5\n",
    "         #'nthread'  :3 ... default is max cores\n",
    "         'eval_metric':'rmse'}  #number of cpu core to use\n",
    "# running for 2k iterations \n",
    "model = xgb.train(parms, data_tr, num_boost_round=2000, evals = evallist,\n",
    "                  early_stopping_rounds=50, maximize=False, \n",
    "                  verbose_eval=100)\n",
    "\n",
    "\n",
    "# The optimization function replacing GridSearchCV implemented with the help of the kaggle kernel of beluga\n",
    "'''                  \n",
    "\n",
    "Flag = True\n",
    "xgb_pars = []\n",
    "for min_child_weight in [0.5, 1, 2, 4]:\n",
    "    for ETA in [0.05, 0.1, 0.15]:\n",
    "        for colsample_bytree in [0.5,0.6,0.7,0.8,0.9]:\n",
    "            for max_depth in [6, 8, 10, 12, 15]:\n",
    "                for subsample in [0.5, 0.6, 0.7, 0.8, 0.9]:\n",
    "                    for lambda in [0.5, 1., 1.5,  2., 3.,4.]:\n",
    "                        xgb_pars.append({'min_child_weight': min_child_weight, 'eta': ETA,\n",
    "                                         'colsample_bytree': colsample_bytree, 'max_depth': max_depth,\n",
    "                                         'subsample': subsample, 'lambda': lambda, \n",
    "                                         'eval_metric': 'rmse','silent': 1, 'objective': 'reg:linear'})\n",
    "\n",
    "while Flag:\n",
    "    xgb_par = np.random.choice(xgb_pars, 1)[0]\n",
    "    print(xgb_par)\n",
    "    model = xgb.train(xgb_par, data_tr, 2000, evallist, early_stopping_rounds=50,maximize=False, verbose_eval=100)\n",
    "    print('Modeling RMSLE %.6f' % model.best_score)\n",
    "'''\n",
    "#the final score achieved by the set parameters and the iterations required for achieveing it (early stopping) \n",
    "\n",
    "print('score = %1.5f, n_boost_round =%d.'%(model.best_score,model.best_iteration))"
   ]
  },
  {
   "cell_type": "code",
   "execution_count": 46,
   "metadata": {},
   "outputs": [
    {
     "data": {
      "image/png": "[encoded data removed]",
      "text/plain": [
       "<matplotlib.figure.Figure at 0x1a4ba7b37f0>"
      ]
     },
     "metadata": {},
     "output_type": "display_data"
    }
   ],
   "source": [
    "# Feature imporatnce graph using the xgb.plot_importance\n",
    "fig =  plt.figure(figsize = (15,15))\n",
    "axes = fig.add_subplot(111)\n",
    "xgb.plot_importance(model,ax = axes,height =0.5)\n",
    "plt.show();plt.close()"
   ]
  },
  {
   "cell_type": "code",
   "execution_count": 47,
   "metadata": {
    "_cell_guid": "de66d99f-092b-4609-a2d0-0658424aa3da",
    "_uuid": "d78a954536b2a432fcc74387621416f7af4a0ee1",
    "collapsed": true
   },
   "outputs": [],
   "source": [
    "# prediction using the model from the test data\n",
    "data_test = xgb.DMatrix(testdf)\n",
    "ztest = model.predict(data_test)\n"
   ]
  },
  {
   "cell_type": "code",
   "execution_count": 48,
   "metadata": {
    "_cell_guid": "29b208c2-566d-448d-98b1-31d6c5c2e75d",
    "_uuid": "04b52ae4f2253602edd910135395bcdf82bf61ca"
   },
   "outputs": [
    {
     "name": "stdout",
     "output_type": "stream",
     "text": [
      "[  766.22845459   578.23187256   399.52279663   947.43713379   363.18490601\n",
      "   903.98730469  1330.34875488   831.69354248  2717.70849609   554.48382568]\n"
     ]
    }
   ],
   "source": [
    "\n",
    "ytest = np.exp(ztest)-1\n",
    "print(ytest[:10])"
   ]
  },
  {
   "cell_type": "code",
   "execution_count": 49,
   "metadata": {
    "_cell_guid": "bc567466-4361-484e-8405-594113679971",
    "_uuid": "41a9092daa3dbedfaa85e7da1c338612dae3d7c6",
    "collapsed": true
   },
   "outputs": [],
   "source": [
    "#creating submission for kaggle\n",
    "submission = pd.DataFrame({'id': test.id, 'trip_duration': ytest})\n",
    "submission.to_csv('submission.csv', index=False)"
   ]
  },
  {
   "cell_type": "code",
   "execution_count": 50,
   "metadata": {},
   "outputs": [
    {
     "data": {
      "image/png": "[encoded data removed]",
      "text/plain": [
       "<matplotlib.figure.Figure at 0x1a4ba7506a0>"
      ]
     },
     "metadata": {},
     "output_type": "display_data"
    }
   ],
   "source": [
    "# model evaluation predicted vs actual values on validation set\n",
    "pred_val = model.predict(xgb.DMatrix(Xval))\n",
    "\n",
    "sns.set(font_scale=1)\n",
    "plt.figure(figsize=(7, 7))\n",
    "plt.scatter(Zval, pred_val, s=3, color='red', alpha=0.025)\n",
    "plt.plot([1,9],[1,9], color='blue')\n",
    "plt.title('Predicted values vs actual values on the validation set')\n",
    "plt.xlabel('log(trip_duration+1)')\n",
    "plt.ylabel('Model predictions')\n",
    "axes = plt.gca()\n",
    "axes.set_xlim([2, 9])\n",
    "axes.set_ylim([2, 9])\n",
    "plt.show()\n",
    "plt.show()"
   ]
  },
  {
   "cell_type": "code",
   "execution_count": null,
   "metadata": {
    "collapsed": true
   },
   "outputs": [],
   "source": []
  }
 ],
 "metadata": {
  "kernelspec": {
   "display_name": "Python 3",
   "language": "python",
   "name": "python3"
  },
  "language_info": {
   "codemirror_mode": {
    "name": "ipython",
    "version": 3
   },
   "file_extension": ".py",
   "mimetype": "text/x-python",
   "name": "python",
   "nbconvert_exporter": "python",
   "pygments_lexer": "ipython3",
   "version": "3.6.4"
  }
 },
 "nbformat": 4,
 "nbformat_minor": 1
}
